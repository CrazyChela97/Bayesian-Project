{
 "cells": [
  {
   "cell_type": "code",
   "execution_count": 1,
   "id": "3cc109ba",
   "metadata": {},
   "outputs": [],
   "source": [
    "from cmdstanpy import CmdStanModel\n",
    "\n",
    "import arviz as az\n",
    "import numpy as np\n",
    "import seaborn as sns\n",
    "import matplotlib.pyplot as plt\n",
    "import pandas as pd\n",
    "from ipywidgets import FloatProgress\n",
    "from IPython.display import display\n",
    "from tqdm import tqdm_notebook\n",
    "import pickle\n",
    "\n",
    "from tensorflow_probability.substrates import numpy as tfp\n",
    "tfd = tfp.distributions"
   ]
  },
  {
   "cell_type": "code",
   "execution_count": 2,
   "id": "61c681d2",
   "metadata": {},
   "outputs": [],
   "source": [
    "df = pd.read_csv(\"Py_Dataset.csv\")\n",
    "staz = pd.read_csv(\"Stazioni_Emilia.csv\")\n",
    "dummies = pd.get_dummies(df.Tipo)"
   ]
  },
  {
   "cell_type": "code",
   "execution_count": 90,
   "id": "6da09eb0",
   "metadata": {},
   "outputs": [
    {
     "name": "stderr",
     "output_type": "stream",
     "text": [
      "INFO:cmdstanpy:compiling stan program, exe file: /Users/michelafrigeri/JupyterProjects/PROGETTO/normal_cluster\n",
      "INFO:cmdstanpy:compiler options: stanc_options={}, cpp_options={}\n",
      "WARNING:cmdstanpy:stanc3 has produced warnings:\n",
      "Warning in '/Users/michelafrigeri/JupyterProjects/PROGETTO/normal_cluster.stan', line 53, column 22: cov_exp_quad is deprecated and will be removed in the future. Use gp_exp_quad_cov instead.\n",
      "INFO:cmdstanpy:compiled model file: /Users/michelafrigeri/JupyterProjects/PROGETTO/normal_cluster\n"
     ]
    }
   ],
   "source": [
    "normal_cluster = \"\"\"\n",
    "data {\n",
    "    int<lower=0> N; \n",
    "    int<lower=0> p;\n",
    "    int<lower=0> G;\n",
    "    int<lower=0> C;\n",
    "    \n",
    "    vector[N] Y;\n",
    "    matrix[N, p] X;\n",
    "    vector[N] t;\n",
    "    int stazione[N];\n",
    "    real omega;\n",
    "    row_vector[2] coord[G];\n",
    "}\n",
    "\n",
    "parameters {\n",
    "    \n",
    "    real<lower=0> sigma_sq;\n",
    "    \n",
    "    vector[p] beta;\n",
    "    \n",
    "    matrix[G, 2] A;\n",
    "    \n",
    "    vector[G] w;\n",
    "    real<lower=0> rho;\n",
    "    real<lower=0> alpha;\n",
    "    \n",
    "    \n",
    "    vector<lower=0>[C] sigma_l_sq;\n",
    "    matrix[C,2] mu_l;\n",
    "    vector<lower=0, upper=1>[C-1] v;\n",
    "    \n",
    "    \n",
    "}\n",
    "\n",
    "\n",
    "transformed parameters {\n",
    "    real<lower=0> sigma;\n",
    "    sigma = sqrt(sigma_sq);\n",
    "    \n",
    "    vector<lower=0>[C] sigma_l;\n",
    "    sigma_l = sqrt(sigma_l_sq);\n",
    "    \n",
    "    vector[N] ft;\n",
    "    ft = to_vector(rep_array(0, N));\n",
    "    ft[1:N] += (  rows_dot_product(A[stazione[1:N],1],sin(omega*t[1:N])) \n",
    "                + rows_dot_product(A[stazione[1:N],2],cos(omega*t[1:N]))  );\n",
    "\n",
    "    vector[N] mu;\n",
    "    mu = ft + X*beta ;\n",
    "    mu[1:N] += w[stazione[1:N]];\n",
    "         \n",
    "    cov_matrix[G] H = cov_exp_quad(coord, alpha, rho);\n",
    "    \n",
    "    vector<lower=0, upper=1> [C-1] cumprod_one_minus_v;\n",
    "    cumprod_one_minus_v = exp(cumulative_sum(log1m(v)));\n",
    "    simplex[C] eta;\n",
    "    eta[1] = v[1];\n",
    "    eta[2:(C-1)] = v[2:(C-1)] .*cumprod_one_minus_v[1:(C-2)];\n",
    "    eta[C] = cumprod_one_minus_v[C - 1];\n",
    "    \n",
    "    \n",
    "    real param=2.0;\n",
    "}\n",
    "\n",
    "\n",
    "model {  \n",
    "\n",
    "    sigma_sq ~ inv_gamma(3,2);\n",
    "    \n",
    "    beta ~ normal([-0.1, -0.1, 0.1], 1);\n",
    "    \n",
    "    rho ~ beta(10, 2000);\n",
    "    \n",
    "    w ~ multi_normal(rep_vector(0,G), H);\n",
    "    \n",
    "    Y ~ normal(mu, sigma);  \n",
    "    \n",
    "    \n",
    "    \n",
    "    \n",
    "    for (i in 1:C){\n",
    "         mu_l[i, :] ~ multi_normal(rep_vector(0,2), diag_matrix(rep_vector(2,2)));\n",
    "         }\n",
    "         \n",
    "    sigma_l_sq ~ inv_gamma(10,9);\n",
    "    \n",
    "    v ~ beta(1, param);\n",
    "    \n",
    "    for (g in 1:G){\n",
    "        vector[C] lps = log(eta);\n",
    "        for (k in 1:C){\n",
    "            lps[k] += normal_lpdf(A[g, :] | mu_l[k,:], sigma_l[k]);\n",
    "            }\n",
    "        target += log_sum_exp(lps);\n",
    "        }\n",
    "}\n",
    "\n",
    "\n",
    "generated quantities  {\n",
    "  vector[N] log_lik;\n",
    "  for (j in 1:N) {\n",
    "    log_lik[j] = normal_lpdf(Y[j] | mu[j], sigma);\n",
    "  }\n",
    "  \n",
    "  \n",
    "  int cluster_allocs[G];\n",
    "  for(g in 1:G){\n",
    "  vector[C] log_probs = log(eta);\n",
    "  for (k in 1:C){\n",
    "     log_probs[k] += normal_lpdf(A[g, :] | mu_l[k,:], sigma_l[k]);\n",
    "     }\n",
    "  cluster_allocs[g] = categorical_rng(softmax(log_probs));\n",
    "  }\n",
    "  \n",
    "}\n",
    "\"\"\"\n",
    "\n",
    "stan_file = \"./normal_cluster.stan\"\n",
    "\n",
    "with open(stan_file, \"w\") as f:\n",
    "    print(normal_cluster, file=f)\n",
    "\n",
    "normal_cluster = CmdStanModel(stan_file=stan_file)\n"
   ]
  },
  {
   "cell_type": "code",
   "execution_count": 91,
   "id": "c9e31a17",
   "metadata": {},
   "outputs": [],
   "source": [
    "y = np.array(df.Y_log)\n",
    "x = np.matrix( pd.concat([df.quota, dummies.Fondo, dummies.Industriale], axis=1) )\n",
    "t = np.array(df.Time)\n",
    "r = np.array(df.Rural)\n",
    "stazione = np.array(df.id)\n",
    "omega = 2*np.pi/365\n",
    "coord = np.matrix( pd.concat([staz.Lat, staz.Long], axis=1) )\n",
    "\n",
    "N = len(y)\n",
    "p = 3   # Quota + Tipo(2 dummies)\n",
    "G = 49  # numero stazioni in Emilia-Romagna\n",
    "C = 10  # numero cluster"
   ]
  },
  {
   "cell_type": "code",
   "execution_count": 92,
   "id": "9a3d0b38",
   "metadata": {},
   "outputs": [
    {
     "name": "stderr",
     "output_type": "stream",
     "text": [
      "Chain 1 - warmup:   0%|                                   | 0/1 [00:00<?, ?it/s]\n",
      "Chain 2 - warmup:   0%|                                   | 0/1 [00:00<?, ?it/s]\u001b[A\n",
      "Chain 1 - warmup:   0%|                                  | 0/80 [00:00<?, ?it/s]\u001b[A\n",
      "Chain 2 - warmup:   0%|                                  | 0/80 [00:00<?, ?it/s]\u001b[A\n",
      "Chain 2 - sample:   1%|▎                         | 1/80 [00:01<01:28,  1.11s/it]\u001b[A\n",
      "Chain 1 - sample:  39%|█████████▋               | 31/80 [00:08<00:14,  3.48it/s]\u001b[A\n",
      "Chain 2 - sample:  39%|█████████▋               | 31/80 [00:20<00:01, 27.76it/s]\u001b[A\n",
      "Chain 2 - sample: 100%|█████████████████████████| 80/80 [02:59<00:00,  2.53s/it]\u001b[A\n",
      "Chain 1 -   done: 100%|█████████████████████████| 80/80 [03:29<00:00,  2.62s/it]\u001b[A\n",
      "Chain 2 -   done: 100%|█████████████████████████| 80/80 [03:29<00:00,  2.62s/it]\n"
     ]
    }
   ],
   "source": [
    "reg_data = {\n",
    "    \"N\": N,   # 18 000 circa (49x365)\n",
    "    \"p\": p,   # 4\n",
    "    \"G\": G,\n",
    "    \"C\": C, # prova con 20\n",
    "    \n",
    "    \"Y\": y,\n",
    "    \"X\": x, \n",
    "    \"t\": t,\n",
    "    \"stazione\": stazione,\n",
    "    \"omega\": omega,\n",
    "    \"coord\": coord\n",
    "}\n",
    "\n",
    "fit_clust = normal_cluster.sample(data=reg_data, chains=2, parallel_chains=2, \n",
    "                             iter_warmup=30, iter_sampling=50, show_progress=True)\n",
    "\n"
   ]
  },
  {
   "cell_type": "code",
   "execution_count": 95,
   "id": "2a352131",
   "metadata": {},
   "outputs": [
    {
     "data": {
      "text/plain": [
       "(100, 49)"
      ]
     },
     "execution_count": 95,
     "metadata": {},
     "output_type": "execute_result"
    }
   ],
   "source": [
    "# cluster allocation\n",
    "output_clust = fit_clust.stan_variable('cluster_allocs')\n",
    "output_clust.shape"
   ]
  },
  {
   "cell_type": "code",
   "execution_count": 96,
   "id": "647806e3",
   "metadata": {},
   "outputs": [
    {
     "data": {
      "text/plain": [
       "array([1., 1., 1., 1., 1., 1., 1., 1., 1., 1., 1., 1., 1., 1., 1., 1., 1.,\n",
       "       1., 1., 1., 1., 1., 1., 1., 1., 1., 1., 1., 1., 1., 1., 1., 1., 1.,\n",
       "       1., 1., 1., 1., 1., 1., 1., 1., 1., 1., 1., 1., 1., 2., 1.])"
      ]
     },
     "execution_count": 96,
     "metadata": {},
     "output_type": "execute_result"
    }
   ],
   "source": [
    "# prima iterazione : 1st chain\n",
    "output_clust[0,:]"
   ]
  },
  {
   "cell_type": "code",
   "execution_count": 85,
   "id": "dda555c7",
   "metadata": {},
   "outputs": [
    {
     "data": {
      "text/plain": [
       "array([1., 1., 1., 1., 1., 1., 1., 1., 1., 1., 1., 1., 1., 1., 1., 1., 1.,\n",
       "       1., 1., 1., 1., 1., 1., 1., 1., 1., 1., 1., 1., 1., 1., 1., 1., 1.,\n",
       "       1., 1., 1., 1., 1., 1., 1., 1., 1., 1., 1., 1., 1., 1., 1.])"
      ]
     },
     "execution_count": 85,
     "metadata": {},
     "output_type": "execute_result"
    }
   ],
   "source": [
    "# ultima iterazione : 1st chain\n",
    "output_clust[49,:] "
   ]
  },
  {
   "cell_type": "code",
   "execution_count": 98,
   "id": "d59e66a2",
   "metadata": {},
   "outputs": [
    {
     "data": {
      "text/plain": [
       "array([4., 1., 1., 5., 3., 7., 1., 3., 3., 9., 3., 4., 9., 1., 4., 7., 3.,\n",
       "       3., 4., 3., 4., 1., 2., 7., 3., 3., 2., 3., 3., 3., 1., 3., 3., 3.,\n",
       "       1., 3., 5., 4., 3., 6., 1., 3., 1., 1., 7., 1., 3., 4., 7.])"
      ]
     },
     "execution_count": 98,
     "metadata": {},
     "output_type": "execute_result"
    }
   ],
   "source": [
    "# prima iterazione : 2nd chain\n",
    "output_clust[50,:]"
   ]
  },
  {
   "cell_type": "code",
   "execution_count": 99,
   "id": "e6ed2500",
   "metadata": {},
   "outputs": [
    {
     "data": {
      "text/plain": [
       "array([3., 3., 3., 3., 3., 3., 3., 3., 3., 3., 3., 3., 3., 3., 3., 3., 3.,\n",
       "       3., 3., 3., 3., 3., 3., 3., 3., 3., 3., 3., 3., 3., 3., 3., 3., 3.,\n",
       "       3., 3., 3., 3., 3., 3., 3., 3., 3., 3., 3., 3., 3., 3., 3.])"
      ]
     },
     "execution_count": 99,
     "metadata": {},
     "output_type": "execute_result"
    }
   ],
   "source": [
    "# ultima iterazione : 2nd chain\n",
    "output_clust[99,:] "
   ]
  },
  {
   "cell_type": "code",
   "execution_count": 105,
   "id": "c4386a2d",
   "metadata": {},
   "outputs": [],
   "source": [
    "def get_psm(clus_alloc_chain):\n",
    "    \"\"\"\n",
    "    Returns the posterior similarity matrix, i.e.\n",
    "        out[i, j] = P(c_i == c_j)\n",
    "    for each pair of observations\n",
    "    \"\"\"\n",
    "    c_chain = np.vstack(clus_alloc_chain)\n",
    "    out = np.zeros((c_chain.shape[1], c_chain.shape[1]))\n",
    "    for i in range(c_chain.shape[1]):\n",
    "        for j in range(i):\n",
    "            out[i, j] = np.mean(c_chain[:, i] == c_chain[:, j])\n",
    "            \n",
    "    return out + out.T + np.eye(out.shape[0])\n",
    "\n",
    "\n",
    "def minbinder_sample(clus_alloc_chain, psm):\n",
    "    losses = np.zeros(len(clus_alloc_chain))\n",
    "    c_chain = np.vstack(clus_alloc_chain)\n",
    "    for i in range(c_chain.shape[1]):\n",
    "        for j in range(i):\n",
    "            # TODO complete here!\n",
    "            losses += 2 * (np.mean(c_chain[:, i] == c_chain[:, j]) - psm[i, j])\n",
    "    best_iter = np.argmin(losses)\n",
    "    return clus_alloc_chain[best_iter]"
   ]
  },
  {
   "cell_type": "code",
   "execution_count": 106,
   "id": "81e8963d",
   "metadata": {},
   "outputs": [],
   "source": [
    "psm = get_psm(output_clust)"
   ]
  },
  {
   "cell_type": "code",
   "execution_count": 107,
   "id": "1b0c6170",
   "metadata": {},
   "outputs": [],
   "source": [
    "best_clus = minbinder_sample(output_clust, psm)"
   ]
  },
  {
   "cell_type": "code",
   "execution_count": 111,
   "id": "ed614c79",
   "metadata": {},
   "outputs": [],
   "source": [
    "A = fit_clust.stan_variable('A')\n",
    "A = A[:,:,0]\n",
    "plt.hist(, density=True, alpha=0.3)\n",
    "for h in range(3):\n",
    "    currd = data[best_clus == h]\n",
    "    plt.scatter(currd, np.zeros_like(currd) + 0.001 * (h+1))"
   ]
  },
  {
   "cell_type": "code",
   "execution_count": 114,
   "id": "0bc61659",
   "metadata": {},
   "outputs": [
    {
     "data": {
      "text/plain": [
       "array([1., 1., 1., 1., 1., 1., 1., 1., 1., 1., 1., 1., 1., 1., 1., 1., 1.,\n",
       "       1., 1., 1., 1., 1., 1., 1., 1., 1., 1., 1., 1., 1., 1., 1., 1., 1.,\n",
       "       1., 1., 1., 1., 1., 1., 1., 1., 1., 1., 1., 1., 1., 2., 1.])"
      ]
     },
     "execution_count": 114,
     "metadata": {},
     "output_type": "execute_result"
    }
   ],
   "source": [
    "best_clus"
   ]
  },
  {
   "cell_type": "code",
   "execution_count": null,
   "id": "b111aa1c",
   "metadata": {},
   "outputs": [],
   "source": []
  }
 ],
 "metadata": {
  "kernelspec": {
   "display_name": "Python 3 (ipykernel)",
   "language": "python",
   "name": "python3"
  },
  "language_info": {
   "codemirror_mode": {
    "name": "ipython",
    "version": 3
   },
   "file_extension": ".py",
   "mimetype": "text/x-python",
   "name": "python",
   "nbconvert_exporter": "python",
   "pygments_lexer": "ipython3",
   "version": "3.9.1"
  }
 },
 "nbformat": 4,
 "nbformat_minor": 5
}
