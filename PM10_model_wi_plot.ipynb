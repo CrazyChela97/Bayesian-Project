{
 "cells": [
  {
   "cell_type": "code",
   "execution_count": 1,
   "id": "a2c06d2e",
   "metadata": {},
   "outputs": [],
   "source": [
    "from cmdstanpy import CmdStanModel, from_csv\n",
    "\n",
    "#import cmdstanpy as cmdstanpy\n",
    "\n",
    "import arviz as az\n",
    "import numpy as np\n",
    "import seaborn as sns\n",
    "import matplotlib.pyplot as plt\n",
    "import pandas as pd\n",
    "from ipywidgets import FloatProgress\n",
    "from IPython.display import display\n",
    "from tqdm import tqdm_notebook\n",
    "import pickle\n",
    "\n",
    "from tensorflow_probability.substrates import numpy as tfp\n",
    "tfd = tfp.distributions"
   ]
  },
  {
   "cell_type": "code",
   "execution_count": 2,
   "id": "23486759",
   "metadata": {},
   "outputs": [
    {
     "data": {
      "text/html": [
       "<div>\n",
       "<style scoped>\n",
       "    .dataframe tbody tr th:only-of-type {\n",
       "        vertical-align: middle;\n",
       "    }\n",
       "\n",
       "    .dataframe tbody tr th {\n",
       "        vertical-align: top;\n",
       "    }\n",
       "\n",
       "    .dataframe thead th {\n",
       "        text-align: right;\n",
       "    }\n",
       "</style>\n",
       "<table border=\"1\" class=\"dataframe\">\n",
       "  <thead>\n",
       "    <tr style=\"text-align: right;\">\n",
       "      <th></th>\n",
       "      <th>Unnamed: 0</th>\n",
       "      <th>Date</th>\n",
       "      <th>Y_log</th>\n",
       "      <th>Rural</th>\n",
       "      <th>Time</th>\n",
       "      <th>NS</th>\n",
       "      <th>quota</th>\n",
       "      <th>Provincia</th>\n",
       "      <th>Zonizzazione</th>\n",
       "      <th>Tipo</th>\n",
       "      <th>id</th>\n",
       "    </tr>\n",
       "  </thead>\n",
       "  <tbody>\n",
       "    <tr>\n",
       "      <th>0</th>\n",
       "      <td>1</td>\n",
       "      <td>2018-01-01</td>\n",
       "      <td>3.688645</td>\n",
       "      <td>1</td>\n",
       "      <td>0</td>\n",
       "      <td>BADIA</td>\n",
       "      <td>0.522332</td>\n",
       "      <td>PR</td>\n",
       "      <td>Pianura Ovest</td>\n",
       "      <td>Fondo</td>\n",
       "      <td>1</td>\n",
       "    </tr>\n",
       "    <tr>\n",
       "      <th>1</th>\n",
       "      <td>2</td>\n",
       "      <td>2018-01-02</td>\n",
       "      <td>2.743930</td>\n",
       "      <td>1</td>\n",
       "      <td>1</td>\n",
       "      <td>BADIA</td>\n",
       "      <td>0.522332</td>\n",
       "      <td>PR</td>\n",
       "      <td>Pianura Ovest</td>\n",
       "      <td>Fondo</td>\n",
       "      <td>1</td>\n",
       "    </tr>\n",
       "    <tr>\n",
       "      <th>2</th>\n",
       "      <td>3</td>\n",
       "      <td>2018-01-03</td>\n",
       "      <td>2.687557</td>\n",
       "      <td>1</td>\n",
       "      <td>2</td>\n",
       "      <td>BADIA</td>\n",
       "      <td>0.522332</td>\n",
       "      <td>PR</td>\n",
       "      <td>Pianura Ovest</td>\n",
       "      <td>Fondo</td>\n",
       "      <td>1</td>\n",
       "    </tr>\n",
       "    <tr>\n",
       "      <th>3</th>\n",
       "      <td>4</td>\n",
       "      <td>2018-01-04</td>\n",
       "      <td>2.850192</td>\n",
       "      <td>1</td>\n",
       "      <td>3</td>\n",
       "      <td>BADIA</td>\n",
       "      <td>0.522332</td>\n",
       "      <td>PR</td>\n",
       "      <td>Pianura Ovest</td>\n",
       "      <td>Fondo</td>\n",
       "      <td>1</td>\n",
       "    </tr>\n",
       "    <tr>\n",
       "      <th>4</th>\n",
       "      <td>5</td>\n",
       "      <td>2018-01-05</td>\n",
       "      <td>3.558992</td>\n",
       "      <td>1</td>\n",
       "      <td>4</td>\n",
       "      <td>BADIA</td>\n",
       "      <td>0.522332</td>\n",
       "      <td>PR</td>\n",
       "      <td>Pianura Ovest</td>\n",
       "      <td>Fondo</td>\n",
       "      <td>1</td>\n",
       "    </tr>\n",
       "  </tbody>\n",
       "</table>\n",
       "</div>"
      ],
      "text/plain": [
       "   Unnamed: 0        Date     Y_log  Rural  Time     NS     quota Provincia  \\\n",
       "0           1  2018-01-01  3.688645      1     0  BADIA  0.522332        PR   \n",
       "1           2  2018-01-02  2.743930      1     1  BADIA  0.522332        PR   \n",
       "2           3  2018-01-03  2.687557      1     2  BADIA  0.522332        PR   \n",
       "3           4  2018-01-04  2.850192      1     3  BADIA  0.522332        PR   \n",
       "4           5  2018-01-05  3.558992      1     4  BADIA  0.522332        PR   \n",
       "\n",
       "    Zonizzazione   Tipo  id  \n",
       "0  Pianura Ovest  Fondo   1  \n",
       "1  Pianura Ovest  Fondo   1  \n",
       "2  Pianura Ovest  Fondo   1  \n",
       "3  Pianura Ovest  Fondo   1  \n",
       "4  Pianura Ovest  Fondo   1  "
      ]
     },
     "execution_count": 2,
     "metadata": {},
     "output_type": "execute_result"
    }
   ],
   "source": [
    "# Dataset import\n",
    "\n",
    "df = pd.read_csv(\"Py_Dataset.csv\")\n",
    "df.head()"
   ]
  },
  {
   "cell_type": "code",
   "execution_count": 3,
   "id": "9a1b8fa0",
   "metadata": {},
   "outputs": [
    {
     "data": {
      "text/html": [
       "<div>\n",
       "<style scoped>\n",
       "    .dataframe tbody tr th:only-of-type {\n",
       "        vertical-align: middle;\n",
       "    }\n",
       "\n",
       "    .dataframe tbody tr th {\n",
       "        vertical-align: top;\n",
       "    }\n",
       "\n",
       "    .dataframe thead th {\n",
       "        text-align: right;\n",
       "    }\n",
       "</style>\n",
       "<table border=\"1\" class=\"dataframe\">\n",
       "  <thead>\n",
       "    <tr style=\"text-align: right;\">\n",
       "      <th></th>\n",
       "      <th>NomeStazione</th>\n",
       "      <th>Lat</th>\n",
       "      <th>Long</th>\n",
       "      <th>Regione</th>\n",
       "      <th>Quota</th>\n",
       "      <th>Provincia</th>\n",
       "      <th>AreaStazione</th>\n",
       "      <th>TipoStazione</th>\n",
       "      <th>id</th>\n",
       "    </tr>\n",
       "  </thead>\n",
       "  <tbody>\n",
       "    <tr>\n",
       "      <th>0</th>\n",
       "      <td>BADIA</td>\n",
       "      <td>44.658309</td>\n",
       "      <td>10.285714</td>\n",
       "      <td>Emilia-Romagna</td>\n",
       "      <td>202.0</td>\n",
       "      <td>PR</td>\n",
       "      <td>Rurale</td>\n",
       "      <td>Fondo</td>\n",
       "      <td>1</td>\n",
       "    </tr>\n",
       "    <tr>\n",
       "      <th>1</th>\n",
       "      <td>BESENZONE</td>\n",
       "      <td>44.987113</td>\n",
       "      <td>9.955758</td>\n",
       "      <td>Emilia-Romagna</td>\n",
       "      <td>50.0</td>\n",
       "      <td>PC</td>\n",
       "      <td>Rurale</td>\n",
       "      <td>Fondo</td>\n",
       "      <td>2</td>\n",
       "    </tr>\n",
       "    <tr>\n",
       "      <th>2</th>\n",
       "      <td>BOGOLESE</td>\n",
       "      <td>44.835555</td>\n",
       "      <td>10.397238</td>\n",
       "      <td>Emilia-Romagna</td>\n",
       "      <td>35.0</td>\n",
       "      <td>PR</td>\n",
       "      <td>Suburbano</td>\n",
       "      <td>Industriale</td>\n",
       "      <td>3</td>\n",
       "    </tr>\n",
       "    <tr>\n",
       "      <th>3</th>\n",
       "      <td>CAORLE</td>\n",
       "      <td>44.418868</td>\n",
       "      <td>12.224176</td>\n",
       "      <td>Emilia-Romagna</td>\n",
       "      <td>4.0</td>\n",
       "      <td>RA</td>\n",
       "      <td>Urbano</td>\n",
       "      <td>Fondo</td>\n",
       "      <td>4</td>\n",
       "    </tr>\n",
       "    <tr>\n",
       "      <th>4</th>\n",
       "      <td>CASTELLARANO</td>\n",
       "      <td>44.532199</td>\n",
       "      <td>10.706261</td>\n",
       "      <td>Emilia-Romagna</td>\n",
       "      <td>150.0</td>\n",
       "      <td>RE</td>\n",
       "      <td>Suburbano</td>\n",
       "      <td>Fondo</td>\n",
       "      <td>5</td>\n",
       "    </tr>\n",
       "  </tbody>\n",
       "</table>\n",
       "</div>"
      ],
      "text/plain": [
       "   NomeStazione        Lat       Long         Regione  Quota Provincia  \\\n",
       "0         BADIA  44.658309  10.285714  Emilia-Romagna  202.0        PR   \n",
       "1     BESENZONE  44.987113   9.955758  Emilia-Romagna   50.0        PC   \n",
       "2      BOGOLESE  44.835555  10.397238  Emilia-Romagna   35.0        PR   \n",
       "3        CAORLE  44.418868  12.224176  Emilia-Romagna    4.0        RA   \n",
       "4  CASTELLARANO  44.532199  10.706261  Emilia-Romagna  150.0        RE   \n",
       "\n",
       "  AreaStazione TipoStazione  id  \n",
       "0       Rurale        Fondo   1  \n",
       "1       Rurale        Fondo   2  \n",
       "2    Suburbano  Industriale   3  \n",
       "3       Urbano        Fondo   4  \n",
       "4    Suburbano        Fondo   5  "
      ]
     },
     "execution_count": 3,
     "metadata": {},
     "output_type": "execute_result"
    }
   ],
   "source": [
    "staz = pd.read_csv(\"Stazioni_Emilia.csv\")\n",
    "staz.head()"
   ]
  },
  {
   "cell_type": "code",
   "execution_count": 4,
   "id": "b4482395",
   "metadata": {},
   "outputs": [
    {
     "data": {
      "text/plain": [
       "2.3056598969634683"
      ]
     },
     "execution_count": 4,
     "metadata": {},
     "output_type": "execute_result"
    },
    {
     "data": {
      "image/png": "[encoded data removed]",
      "text/plain": [
       "<Figure size 432x288 with 1 Axes>"
      ]
     },
     "metadata": {
      "needs_background": "light"
     },
     "output_type": "display_data"
    }
   ],
   "source": [
    "plt.hist(df.Y_log)\n",
    "np.std(df.Y_log)*5 # a = 2, b = 3 per invgamma"
   ]
  },
  {
   "cell_type": "code",
   "execution_count": 5,
   "id": "90ffa9ff",
   "metadata": {},
   "outputs": [
    {
     "data": {
      "text/html": [
       "<div>\n",
       "<style scoped>\n",
       "    .dataframe tbody tr th:only-of-type {\n",
       "        vertical-align: middle;\n",
       "    }\n",
       "\n",
       "    .dataframe tbody tr th {\n",
       "        vertical-align: top;\n",
       "    }\n",
       "\n",
       "    .dataframe thead th {\n",
       "        text-align: right;\n",
       "    }\n",
       "</style>\n",
       "<table border=\"1\" class=\"dataframe\">\n",
       "  <thead>\n",
       "    <tr style=\"text-align: right;\">\n",
       "      <th></th>\n",
       "      <th>Fondo</th>\n",
       "      <th>Industriale</th>\n",
       "      <th>Traffico</th>\n",
       "    </tr>\n",
       "  </thead>\n",
       "  <tbody>\n",
       "    <tr>\n",
       "      <th>0</th>\n",
       "      <td>1</td>\n",
       "      <td>0</td>\n",
       "      <td>0</td>\n",
       "    </tr>\n",
       "    <tr>\n",
       "      <th>1</th>\n",
       "      <td>1</td>\n",
       "      <td>0</td>\n",
       "      <td>0</td>\n",
       "    </tr>\n",
       "    <tr>\n",
       "      <th>2</th>\n",
       "      <td>1</td>\n",
       "      <td>0</td>\n",
       "      <td>0</td>\n",
       "    </tr>\n",
       "    <tr>\n",
       "      <th>3</th>\n",
       "      <td>1</td>\n",
       "      <td>0</td>\n",
       "      <td>0</td>\n",
       "    </tr>\n",
       "    <tr>\n",
       "      <th>4</th>\n",
       "      <td>1</td>\n",
       "      <td>0</td>\n",
       "      <td>0</td>\n",
       "    </tr>\n",
       "  </tbody>\n",
       "</table>\n",
       "</div>"
      ],
      "text/plain": [
       "   Fondo  Industriale  Traffico\n",
       "0      1            0         0\n",
       "1      1            0         0\n",
       "2      1            0         0\n",
       "3      1            0         0\n",
       "4      1            0         0"
      ]
     },
     "execution_count": 5,
     "metadata": {},
     "output_type": "execute_result"
    }
   ],
   "source": [
    "# dummies\n",
    "\n",
    "dummies = pd.get_dummies(df.Tipo)\n",
    "dummies.head()"
   ]
  },
  {
   "cell_type": "code",
   "execution_count": 6,
   "id": "9ba06abe",
   "metadata": {},
   "outputs": [],
   "source": [
    "#model\n",
    "y = np.array(df.Y_log)\n",
    "x = np.matrix( pd.concat([df.quota, dummies.Fondo, dummies.Industriale], axis=1) )\n",
    "t = np.array(df.Time)\n",
    "r = np.array(df.Rural)\n",
    "stazione = np.array(df.id)\n",
    "omega = 2*np.pi/365\n",
    "coord = np.matrix( pd.concat([staz.Lat, staz.Long], axis=1) )\n",
    "\n",
    "N = len(y)\n",
    "p = 3   # Quota + Tipo(2 dummies)\n",
    "k = 4   # 4 basi di fourier + const\n",
    "G = 49  # numero stazioni in Emilia-Romagna"
   ]
  },
  {
   "cell_type": "code",
   "execution_count": 7,
   "id": "dc018bc1",
   "metadata": {},
   "outputs": [],
   "source": [
    "#importo le catene\n",
    "\n",
    "from cmdstanpy import from_csv\n",
    "catena1 = from_csv(\"normal_reg-20220203133925_1.csv\")\n",
    "catena2 = from_csv(\"normal_reg-20220203133925_2.csv\")\n",
    "catena3 = from_csv(\"normal_reg-20220203133925_3.csv\")\n",
    "catena4 = from_csv(\"normal_reg-20220203133925_4.csv\")"
   ]
  },
  {
   "cell_type": "code",
   "execution_count": null,
   "id": "553c1348",
   "metadata": {},
   "outputs": [],
   "source": [
    "# Get required chains\n",
    "Nsamples1 = catena1.num_draws_sampling\n",
    "beta_chain1 = catena1.stan_variable(\"beta\")\n",
    "a_chain1 = catena1.stan_variable(\"a\")\n",
    "ar_chain1 = catena1.stan_variable(\"a_r\")\n",
    "b_chain1 = catena1.stan_variable(\"b\")\n",
    "br_chain1 = catena1.stan_variable(\"b_r\")\n",
    "c_chain1 = catena1.stan_variable(\"c\")\n",
    "cr_chain1 = catena1.stan_variable(\"c_r\")\n"
   ]
  },
  {
   "cell_type": "code",
   "execution_count": 8,
   "id": "daa040d4",
   "metadata": {},
   "outputs": [
    {
     "ename": "NameError",
     "evalue": "name 'Nsamples1' is not defined",
     "output_type": "error",
     "traceback": [
      "\u001b[0;31m---------------------------------------------------------------------------\u001b[0m",
      "\u001b[0;31mNameError\u001b[0m                                 Traceback (most recent call last)",
      "\u001b[0;32m/var/folders/tm/ly4t3rdx7wn3yh3l78zy1gnr0000gn/T/ipykernel_2136/597274635.py\u001b[0m in \u001b[0;36m<module>\u001b[0;34m\u001b[0m\n\u001b[1;32m      3\u001b[0m \u001b[0mplt\u001b[0m\u001b[0;34m.\u001b[0m\u001b[0msubplot\u001b[0m\u001b[0;34m(\u001b[0m\u001b[0;36m211\u001b[0m\u001b[0;34m)\u001b[0m\u001b[0;34m\u001b[0m\u001b[0;34m\u001b[0m\u001b[0m\n\u001b[1;32m      4\u001b[0m \u001b[0mplt\u001b[0m\u001b[0;34m.\u001b[0m\u001b[0mtitle\u001b[0m\u001b[0;34m(\u001b[0m\u001b[0;34m'c'\u001b[0m\u001b[0;34m)\u001b[0m\u001b[0;34m\u001b[0m\u001b[0;34m\u001b[0m\u001b[0m\n\u001b[0;32m----> 5\u001b[0;31m \u001b[0mplt\u001b[0m\u001b[0;34m.\u001b[0m\u001b[0mplot\u001b[0m\u001b[0;34m(\u001b[0m\u001b[0mrange\u001b[0m\u001b[0;34m(\u001b[0m\u001b[0;36m1\u001b[0m\u001b[0;34m,\u001b[0m\u001b[0mNsamples1\u001b[0m\u001b[0;34m+\u001b[0m\u001b[0;36m1\u001b[0m\u001b[0;34m)\u001b[0m\u001b[0;34m,\u001b[0m \u001b[0mc_chain1\u001b[0m\u001b[0;34m)\u001b[0m\u001b[0;34m\u001b[0m\u001b[0;34m\u001b[0m\u001b[0m\n\u001b[0m\u001b[1;32m      6\u001b[0m \u001b[0;34m\u001b[0m\u001b[0m\n\u001b[1;32m      7\u001b[0m \u001b[0mplt\u001b[0m\u001b[0;34m.\u001b[0m\u001b[0msubplot\u001b[0m\u001b[0;34m(\u001b[0m\u001b[0;36m212\u001b[0m\u001b[0;34m)\u001b[0m\u001b[0;34m\u001b[0m\u001b[0;34m\u001b[0m\u001b[0m\n",
      "\u001b[0;31mNameError\u001b[0m: name 'Nsamples1' is not defined"
     ]
    },
    {
     "data": {
      "image/png": "[encoded data removed]",
      "text/plain": [
       "<Figure size 504x432 with 1 Axes>"
      ]
     },
     "metadata": {
      "needs_background": "light"
     },
     "output_type": "display_data"
    }
   ],
   "source": [
    "#plot di c e c_r\n",
    "plt.figure(figsize=(7, 6))\n",
    "plt.subplot(211)\n",
    "plt.title('c') \n",
    "plt.plot(range(1,Nsamples1+1), c_chain1)\n",
    "\n",
    "plt.subplot(212)\n",
    "plt.title('c_r') \n",
    "plt.plot(range(1,Nsamples1+1), cr_chain1)\n",
    "plt.show()"
   ]
  },
  {
   "cell_type": "code",
   "execution_count": null,
   "id": "06efcbd6",
   "metadata": {},
   "outputs": [],
   "source": [
    "#così è molto più smart e non ho problemi per gli altri parametri\n",
    "normal_az1 = az.from_cmdstanpy(catena1)"
   ]
  },
  {
   "cell_type": "code",
   "execution_count": null,
   "id": "aca27069",
   "metadata": {},
   "outputs": [],
   "source": [
    "# parameters NON-rural f(t)\n",
    "az.plot_trace(normal_az1, var_names=[\"a\", \"b\", \"c\"], compact=False)\n",
    "plt.show()"
   ]
  },
  {
   "cell_type": "code",
   "execution_count": null,
   "id": "db26c56c",
   "metadata": {},
   "outputs": [],
   "source": [
    "# parameters rural f(t)\n",
    "az.plot_trace(normal_az1, var_names=[\"a_r\", \"b_r\", \"c_r\"], compact=False)\n",
    "plt.show()"
   ]
  },
  {
   "cell_type": "code",
   "execution_count": null,
   "id": "ecd4627d",
   "metadata": {},
   "outputs": [],
   "source": [
    "# parameters wi\n",
    "az.plot_trace(normal_az1, var_names=[\"w\"], compact=False)\n",
    "plt.show()"
   ]
  },
  {
   "cell_type": "code",
   "execution_count": null,
   "id": "43267f64",
   "metadata": {},
   "outputs": [],
   "source": [
    "# parameters: beta and sigma\n",
    "az.plot_trace(normal_az, var_names=[\"beta\", \"sigma\"], compact=False)\n",
    "plt.show()"
   ]
  },
  {
   "cell_type": "code",
   "execution_count": null,
   "id": "0584d8e0",
   "metadata": {},
   "outputs": [],
   "source": [
    "# transformed parameters: sigma^2\n",
    "az.plot_trace(normal_az, var_names=[\"sigma_sq\"])\n",
    "plt.show()"
   ]
  }
 ],
 "metadata": {
  "kernelspec": {
   "display_name": "Python 3 (ipykernel)",
   "language": "python",
   "name": "python3"
  },
  "language_info": {
   "codemirror_mode": {
    "name": "ipython",
    "version": 3
   },
   "file_extension": ".py",
   "mimetype": "text/x-python",
   "name": "python",
   "nbconvert_exporter": "python",
   "pygments_lexer": "ipython3",
   "version": "3.9.5"
  }
 },
 "nbformat": 4,
 "nbformat_minor": 5
}
